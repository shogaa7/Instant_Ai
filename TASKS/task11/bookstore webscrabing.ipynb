{
 "cells": [
  {
   "cell_type": "code",
   "execution_count": 5,
   "id": "285a23f6",
   "metadata": {},
   "outputs": [],
   "source": [
    "from bs4 import BeautifulSoup\n",
    "import requests"
   ]
  },
  {
   "cell_type": "code",
   "execution_count": 70,
   "id": "6eed8e78",
   "metadata": {},
   "outputs": [
    {
     "name": "stdout",
     "output_type": "stream",
     "text": [
      "please enter the page number 3\n"
     ]
    }
   ],
   "source": [
    "page_number=input(\"please enter the page number \")\n",
    "url=f\"https://books.toscrape.com/catalogue/page-{page_number}.html\""
   ]
  },
  {
   "cell_type": "code",
   "execution_count": 74,
   "id": "61cf11d7",
   "metadata": {},
   "outputs": [],
   "source": [
    "response=requests.get(url)\n",
    "html_content=response.content"
   ]
  },
  {
   "cell_type": "code",
   "execution_count": 75,
   "id": "5b004bfa",
   "metadata": {},
   "outputs": [
    {
     "name": "stdout",
     "output_type": "stream",
     "text": [
      "Title: Slow States of Collapse: Poems\n",
      "Price: £57.31\n",
      "Rating: Three\n",
      "====================\n",
      "Title: Reasons to Stay Alive\n",
      "Price: £26.41\n",
      "Rating: Two\n",
      "====================\n",
      "Title: Private Paris (Private #10)\n",
      "Price: £47.61\n",
      "Rating: Five\n",
      "====================\n",
      "Title: #HigherSelfie: Wake Up Your Life. Free Your Soul. Find Your Tribe.\n",
      "Price: £23.11\n",
      "Rating: Five\n",
      "====================\n",
      "Title: Without Borders (Wanderlove #1)\n",
      "Price: £45.07\n",
      "Rating: Two\n",
      "====================\n",
      "Title: When We Collided\n",
      "Price: £31.77\n",
      "Rating: One\n",
      "====================\n",
      "Title: We Love You, Charlie Freeman\n",
      "Price: £50.27\n",
      "Rating: Five\n",
      "====================\n",
      "Title: Untitled Collection: Sabbath Poems 2014\n",
      "Price: £14.27\n",
      "Rating: Four\n",
      "====================\n",
      "Title: Unseen City: The Majesty of Pigeons, the Discreet Charm of Snails & Other Wonders of the Urban Wilderness\n",
      "Price: £44.18\n",
      "Rating: Four\n",
      "====================\n",
      "Title: Unicorn Tracks\n",
      "Price: £18.78\n",
      "Rating: Three\n",
      "====================\n",
      "Title: Unbound: How Eight Technologies Made Us Human, Transformed Society, and Brought Our World to the Brink\n",
      "Price: £25.52\n",
      "Rating: One\n",
      "====================\n",
      "Title: Tsubasa: WoRLD CHRoNiCLE 2 (Tsubasa WoRLD CHRoNiCLE #2)\n",
      "Price: £16.28\n",
      "Rating: One\n",
      "====================\n",
      "Title: Throwing Rocks at the Google Bus: How Growth Became the Enemy of Prosperity\n",
      "Price: £31.12\n",
      "Rating: Three\n",
      "====================\n",
      "Title: This One Summer\n",
      "Price: £19.49\n",
      "Rating: Four\n",
      "====================\n",
      "Title: Thirst\n",
      "Price: £17.27\n",
      "Rating: Five\n",
      "====================\n",
      "Title: The Torch Is Passed: A Harding Family Story\n",
      "Price: £19.09\n",
      "Rating: One\n",
      "====================\n",
      "Title: The Secret of Dreadwillow Carse\n",
      "Price: £56.13\n",
      "Rating: One\n",
      "====================\n",
      "Title: The Pioneer Woman Cooks: Dinnertime: Comfort Classics, Freezer Food, 16-Minute Meals, and Other Delicious Ways to Solve Supper!\n",
      "Price: £56.41\n",
      "Rating: One\n",
      "====================\n",
      "Title: The Past Never Ends\n",
      "Price: £56.50\n",
      "Rating: Four\n",
      "====================\n",
      "Title: The Natural History of Us (The Fine Art of Pretending #2)\n",
      "Price: £45.22\n",
      "Rating: Three\n",
      "====================\n"
     ]
    }
   ],
   "source": [
    "soup=BeautifulSoup(html_content,'lxml')\n",
    "books = soup.find_all('article', class_='product_pod')\n",
    "\n",
    "number_of_books=len(books)\n",
    "for book in books:\n",
    "    books_title=book.find('h3').find('a')['title']\n",
    "    books_price=book.find('p', {'class':'price_color'}).text.strip()\n",
    "    rating = book.find('p', class_='star-rating')['class'][-1]\n",
    "    print(f\"Title: {books_title}\")\n",
    "    print(f\"Price: {books_price}\")\n",
    "    print(f\"Rating: {rating}\") \n",
    "    print('='*20)"
   ]
  },
  {
   "cell_type": "code",
   "execution_count": null,
   "id": "f0e65558",
   "metadata": {},
   "outputs": [],
   "source": []
  }
 ],
 "metadata": {
  "kernelspec": {
   "display_name": "Python 3 (ipykernel)",
   "language": "python",
   "name": "python3"
  },
  "language_info": {
   "codemirror_mode": {
    "name": "ipython",
    "version": 3
   },
   "file_extension": ".py",
   "mimetype": "text/x-python",
   "name": "python",
   "nbconvert_exporter": "python",
   "pygments_lexer": "ipython3",
   "version": "3.10.9"
  }
 },
 "nbformat": 4,
 "nbformat_minor": 5
}
