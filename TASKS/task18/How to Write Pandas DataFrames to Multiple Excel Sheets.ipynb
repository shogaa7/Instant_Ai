{
 "cells": [
  {
   "cell_type": "code",
   "execution_count": 1,
   "id": "53089c11",
   "metadata": {},
   "outputs": [
    {
     "ename": "NameError",
     "evalue": "name 'writer' is not defined",
     "output_type": "error",
     "traceback": [
      "\u001b[1;31m---------------------------------------------------------------------------\u001b[0m",
      "\u001b[1;31mNameError\u001b[0m                                 Traceback (most recent call last)",
      "Cell \u001b[1;32mIn[1], line 16\u001b[0m\n\u001b[0;32m      7\u001b[0m data_frame2 \u001b[38;5;241m=\u001b[39m pd\u001b[38;5;241m.\u001b[39mDataFrame({\u001b[38;5;124m'\u001b[39m\u001b[38;5;124mVegetables\u001b[39m\u001b[38;5;124m'\u001b[39m: [\u001b[38;5;124m'\u001b[39m\u001b[38;5;124mtomato\u001b[39m\u001b[38;5;124m'\u001b[39m, \u001b[38;5;124m'\u001b[39m\u001b[38;5;124mOnion\u001b[39m\u001b[38;5;124m'\u001b[39m, \u001b[38;5;124m'\u001b[39m\u001b[38;5;124mladies finger\u001b[39m\u001b[38;5;124m'\u001b[39m,\n\u001b[0;32m      8\u001b[0m                                            \u001b[38;5;124m'\u001b[39m\u001b[38;5;124mbeans\u001b[39m\u001b[38;5;124m'\u001b[39m, \u001b[38;5;124m'\u001b[39m\u001b[38;5;124mbedroot\u001b[39m\u001b[38;5;124m'\u001b[39m, \u001b[38;5;124m'\u001b[39m\u001b[38;5;124mcarrot\u001b[39m\u001b[38;5;124m'\u001b[39m],\n\u001b[0;32m      9\u001b[0m                             \u001b[38;5;124m'\u001b[39m\u001b[38;5;124mSales in kg\u001b[39m\u001b[38;5;124m'\u001b[39m: [\u001b[38;5;241m200\u001b[39m, \u001b[38;5;241m310\u001b[39m, \u001b[38;5;241m115\u001b[39m, \u001b[38;5;241m110\u001b[39m, \u001b[38;5;241m55\u001b[39m, \u001b[38;5;241m45\u001b[39m]})\n\u001b[0;32m     12\u001b[0m data_frame3 \u001b[38;5;241m=\u001b[39m pd\u001b[38;5;241m.\u001b[39mDataFrame({\u001b[38;5;124m'\u001b[39m\u001b[38;5;124mBaked Items\u001b[39m\u001b[38;5;124m'\u001b[39m: [\u001b[38;5;124m'\u001b[39m\u001b[38;5;124mCakes\u001b[39m\u001b[38;5;124m'\u001b[39m, \u001b[38;5;124m'\u001b[39m\u001b[38;5;124mbiscuits\u001b[39m\u001b[38;5;124m'\u001b[39m, \u001b[38;5;124m'\u001b[39m\u001b[38;5;124mmuffins\u001b[39m\u001b[38;5;124m'\u001b[39m,\n\u001b[0;32m     13\u001b[0m                                             \u001b[38;5;124m'\u001b[39m\u001b[38;5;124mRusk\u001b[39m\u001b[38;5;124m'\u001b[39m, \u001b[38;5;124m'\u001b[39m\u001b[38;5;124mpuffs\u001b[39m\u001b[38;5;124m'\u001b[39m, \u001b[38;5;124m'\u001b[39m\u001b[38;5;124mcupcakes\u001b[39m\u001b[38;5;124m'\u001b[39m],\n\u001b[0;32m     14\u001b[0m                             \u001b[38;5;124m'\u001b[39m\u001b[38;5;124mSales in kg\u001b[39m\u001b[38;5;124m'\u001b[39m: [\u001b[38;5;241m120\u001b[39m, \u001b[38;5;241m130\u001b[39m, \u001b[38;5;241m159\u001b[39m, \u001b[38;5;241m310\u001b[39m, \u001b[38;5;241m150\u001b[39m, \u001b[38;5;241m140\u001b[39m]})\n\u001b[1;32m---> 16\u001b[0m data_frame1\u001b[38;5;241m.\u001b[39mto_excel(\u001b[43mwriter\u001b[49m, sheet_name\u001b[38;5;241m=\u001b[39m\u001b[38;5;124m\"\u001b[39m\u001b[38;5;124mFruits\u001b[39m\u001b[38;5;124m\"\u001b[39m, index\u001b[38;5;241m=\u001b[39m\u001b[38;5;28;01mFalse\u001b[39;00m)\n\u001b[0;32m     17\u001b[0m data_frame2\u001b[38;5;241m.\u001b[39mto_excel(writer, sheet_name\u001b[38;5;241m=\u001b[39m\u001b[38;5;124m\"\u001b[39m\u001b[38;5;124mVegetables\u001b[39m\u001b[38;5;124m\"\u001b[39m, index\u001b[38;5;241m=\u001b[39m\u001b[38;5;28;01mFalse\u001b[39;00m)\n\u001b[0;32m     18\u001b[0m data_frame3\u001b[38;5;241m.\u001b[39mto_excel(writer, sheet_name\u001b[38;5;241m=\u001b[39m\u001b[38;5;124m\"\u001b[39m\u001b[38;5;124mBaked Items\u001b[39m\u001b[38;5;124m\"\u001b[39m, index\u001b[38;5;241m=\u001b[39m\u001b[38;5;28;01mFalse\u001b[39;00m)\n",
      "\u001b[1;31mNameError\u001b[0m: name 'writer' is not defined"
     ]
    }
   ],
   "source": [
    "import pandas as pd\n",
    "data_frame1 = pd.DataFrame({'Fruits': ['Appple', 'Banana', 'Mango',\n",
    "                                       'Dragon Fruit', 'Musk melon', 'grapes'],\n",
    "                            'Sales in kg': [20, 30, 15, 10, 50, 40]})\n",
    " \n",
    "\n",
    "data_frame2 = pd.DataFrame({'Vegetables': ['tomato', 'Onion', 'ladies finger',\n",
    "                                           'beans', 'bedroot', 'carrot'],\n",
    "                            'Sales in kg': [200, 310, 115, 110, 55, 45]})\n",
    " \n",
    "\n",
    "data_frame3 = pd.DataFrame({'Baked Items': ['Cakes', 'biscuits', 'muffins',\n",
    "                                            'Rusk', 'puffs', 'cupcakes'],\n",
    "                            'Sales in kg': [120, 130, 159, 310, 150, 140]})\n",
    " \n",
    "data_frame1.to_excel(name, sheet_name=\"Fruits\", index=False)\n",
    "data_frame2.to_excel(name, sheet_name=\"Vegetables\", index=False)\n",
    "data_frame3.to_excel(name, sheet_name=\"Baked Items\", index=False)"
   ]
  },
  {
   "cell_type": "code",
   "execution_count": null,
   "id": "feb046ab",
   "metadata": {},
   "outputs": [],
   "source": []
  }
 ],
 "metadata": {
  "kernelspec": {
   "display_name": "Python 3 (ipykernel)",
   "language": "python",
   "name": "python3"
  },
  "language_info": {
   "codemirror_mode": {
    "name": "ipython",
    "version": 3
   },
   "file_extension": ".py",
   "mimetype": "text/x-python",
   "name": "python",
   "nbconvert_exporter": "python",
   "pygments_lexer": "ipython3",
   "version": "3.10.9"
  }
 },
 "nbformat": 4,
 "nbformat_minor": 5
}
