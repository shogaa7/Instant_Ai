{
 "cells": [
  {
   "cell_type": "code",
   "execution_count": 144,
   "id": "c2332e50",
   "metadata": {},
   "outputs": [
    {
     "name": "stdout",
     "output_type": "stream",
     "text": [
      "mahmoud shogaa 01026497727 mahmoud@gmail.com\n",
      "mohammed ahmed 01026498852 mohamed@gmail.com\n",
      "\n"
     ]
    }
   ],
   "source": [
    "with open('D:\\\\Instant AI\\\\TASKS\\\\task8\\\\informations.txt') as f:\n",
    "    contents = f.read()\n",
    "    print(contents)"
   ]
  },
  {
   "cell_type": "code",
   "execution_count": 3,
   "id": "eb50dad4",
   "metadata": {},
   "outputs": [],
   "source": [
    "import re"
   ]
  },
  {
   "cell_type": "code",
   "execution_count": 147,
   "id": "024ded1b",
   "metadata": {},
   "outputs": [
    {
     "name": "stdout",
     "output_type": "stream",
     "text": [
      "['mahmoud shogaa', 'mohammed ahmed']\n"
     ]
    }
   ],
   "source": [
    "pattern=re.compile(\"[a-z]+\\s[^com\\n][a-z]+\")\n",
    "matches=pattern.finditer(contents)\n",
    "name=list()\n",
    "for match in matches:\n",
    "    start=match.span()[0]\n",
    "    end=match.span()[1]\n",
    "    name.append(contents[start:end])\n",
    "print(name)"
   ]
  },
  {
   "cell_type": "code",
   "execution_count": 148,
   "id": "0b99aef5",
   "metadata": {},
   "outputs": [
    {
     "name": "stdout",
     "output_type": "stream",
     "text": [
      "['01026497727', '01026498852']\n"
     ]
    }
   ],
   "source": [
    "pattern=re.compile(\"\\d{11}\")\n",
    "matches=pattern.finditer(contents)\n",
    "number=list()\n",
    "for match in matches:\n",
    "    start=match.span()[0]\n",
    "    end=match.span()[1]\n",
    "    number.append(contents[start:end])\n",
    "print(number)"
   ]
  },
  {
   "cell_type": "code",
   "execution_count": 150,
   "id": "668afa83",
   "metadata": {},
   "outputs": [
    {
     "name": "stdout",
     "output_type": "stream",
     "text": [
      "['mahmoud@gmail.com', 'mohamed@gmail.com']\n"
     ]
    }
   ],
   "source": [
    "pattern=re.compile(\"[a-zA-Z]+@[a-zA-Z]+\\.com\")\n",
    "matches=pattern.finditer(contents)\n",
    "mails=list()\n",
    "for match in matches:\n",
    "    start=match.span()[0]\n",
    "    end=match.span()[1]\n",
    "    mails.append(contents[start:end])\n",
    "print(mails)"
   ]
  },
  {
   "cell_type": "code",
   "execution_count": 5,
   "id": "7fc267bb",
   "metadata": {},
   "outputs": [
    {
     "name": "stdout",
     "output_type": "stream",
     "text": [
      "mahmoud shogaa 01026497727 mahmoud@gmail.com\n",
      "01026498852 ziad ahmed mohamed@gmail.com\n",
      "\n"
     ]
    }
   ],
   "source": [
    "with open('D:\\\\Instant AI\\\\TASKS\\\\task8\\\\informations 2.txt') as f:\n",
    "    contents = f.read()\n",
    "    print(contents)"
   ]
  },
  {
   "cell_type": "code",
   "execution_count": 6,
   "id": "dfae90a1",
   "metadata": {},
   "outputs": [
    {
     "name": "stdout",
     "output_type": "stream",
     "text": [
      "['mahmoud shogaa', 'ziad ahmed']\n"
     ]
    }
   ],
   "source": [
    "pattern=re.compile(\"[a-z]+\\s[^com\\n][a-z]+\")\n",
    "matches=pattern.finditer(contents)\n",
    "name=list()\n",
    "for match in matches:\n",
    "    start=match.span()[0]\n",
    "    end=match.span()[1]\n",
    "    name.append(contents[start:end])\n",
    "print(name)"
   ]
  },
  {
   "cell_type": "code",
   "execution_count": 7,
   "id": "0fc7989b",
   "metadata": {},
   "outputs": [
    {
     "name": "stdout",
     "output_type": "stream",
     "text": [
      "['01026497727', '01026498852']\n"
     ]
    }
   ],
   "source": [
    "pattern=re.compile(\"\\d{11}\")\n",
    "matches=pattern.finditer(contents)\n",
    "number=list()\n",
    "for match in matches:\n",
    "    start=match.span()[0]\n",
    "    end=match.span()[1]\n",
    "    number.append(contents[start:end])\n",
    "print(number)"
   ]
  },
  {
   "cell_type": "code",
   "execution_count": 8,
   "id": "959202d8",
   "metadata": {},
   "outputs": [
    {
     "name": "stdout",
     "output_type": "stream",
     "text": [
      "['mahmoud@gmail.com', 'mohamed@gmail.com']\n"
     ]
    }
   ],
   "source": [
    "pattern=re.compile(\"[a-zA-Z]+@[a-zA-Z]+\\.com\")\n",
    "matches=pattern.finditer(contents)\n",
    "mails=list()\n",
    "for match in matches:\n",
    "    start=match.span()[0]\n",
    "    end=match.span()[1]\n",
    "    mails.append(contents[start:end])\n",
    "print(mails)"
   ]
  },
  {
   "cell_type": "code",
   "execution_count": 13,
   "id": "891360c9",
   "metadata": {},
   "outputs": [
    {
     "name": "stdout",
     "output_type": "stream",
     "text": [
      "mahmoud shogaa-01026497727-mahmoud@gmail.com\n",
      "mohammed ahmed-01026498852-ziad@gmail.com\n",
      "\n"
     ]
    }
   ],
   "source": [
    "with open('D:\\\\Instant AI\\\\TASKS\\\\task8\\\\informations 3.txt') as f:\n",
    "    contents = f.read()\n",
    "    print(contents)"
   ]
  },
  {
   "cell_type": "code",
   "execution_count": 14,
   "id": "f050bb41",
   "metadata": {},
   "outputs": [
    {
     "name": "stdout",
     "output_type": "stream",
     "text": [
      "['mahmoud shogaa', 'mohammed ahmed']\n"
     ]
    }
   ],
   "source": [
    "pattern=re.compile(\"[a-z]+\\s[^com\\n][a-z]+\")\n",
    "matches=pattern.finditer(contents)\n",
    "name=list()\n",
    "for match in matches:\n",
    "    start=match.span()[0]\n",
    "    end=match.span()[1]\n",
    "    name.append(contents[start:end])\n",
    "print(name)"
   ]
  },
  {
   "cell_type": "code",
   "execution_count": 15,
   "id": "c4283315",
   "metadata": {},
   "outputs": [
    {
     "name": "stdout",
     "output_type": "stream",
     "text": [
      "['01026497727', '01026498852']\n"
     ]
    }
   ],
   "source": [
    "pattern=re.compile(\"\\d{11}\")\n",
    "matches=pattern.finditer(contents)\n",
    "number=list()\n",
    "for match in matches:\n",
    "    start=match.span()[0]\n",
    "    end=match.span()[1]\n",
    "    number.append(contents[start:end])\n",
    "print(number)"
   ]
  },
  {
   "cell_type": "code",
   "execution_count": 16,
   "id": "96481967",
   "metadata": {},
   "outputs": [
    {
     "name": "stdout",
     "output_type": "stream",
     "text": [
      "['mahmoud@gmail.com', 'ziad@gmail.com']\n"
     ]
    }
   ],
   "source": [
    "pattern=re.compile(\"[a-zA-Z]+@[a-zA-Z]+\\.com\")\n",
    "matches=pattern.finditer(contents)\n",
    "mails=list()\n",
    "for match in matches:\n",
    "    start=match.span()[0]\n",
    "    end=match.span()[1]\n",
    "    mails.append(contents[start:end])\n",
    "print(mails)"
   ]
  },
  {
   "cell_type": "code",
   "execution_count": null,
   "id": "e3ce1ca3",
   "metadata": {},
   "outputs": [],
   "source": []
  }
 ],
 "metadata": {
  "kernelspec": {
   "display_name": "Python 3 (ipykernel)",
   "language": "python",
   "name": "python3"
  },
  "language_info": {
   "codemirror_mode": {
    "name": "ipython",
    "version": 3
   },
   "file_extension": ".py",
   "mimetype": "text/x-python",
   "name": "python",
   "nbconvert_exporter": "python",
   "pygments_lexer": "ipython3",
   "version": "3.10.9"
  }
 },
 "nbformat": 4,
 "nbformat_minor": 5
}
